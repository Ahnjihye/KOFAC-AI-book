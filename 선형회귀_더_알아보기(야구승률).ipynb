{
  "nbformat": 4,
  "nbformat_minor": 0,
  "metadata": {
    "colab": {
      "name": "선형회귀_더 알아보기(야구승률)",
      "provenance": [],
      "collapsed_sections": [],
      "include_colab_link": true
    },
    "kernelspec": {
      "name": "python3",
      "display_name": "Python 3"
    }
  },
  "cells": [
    {
      "cell_type": "markdown",
      "metadata": {
        "id": "view-in-github",
        "colab_type": "text"
      },
      "source": [
        "<a href=\"https://colab.research.google.com/github/Ahnjihye/KOFAC-AI-book/blob/main/%EC%84%A0%ED%98%95%ED%9A%8C%EA%B7%80_%EB%8D%94_%EC%95%8C%EC%95%84%EB%B3%B4%EA%B8%B0(%EC%95%BC%EA%B5%AC%EC%8A%B9%EB%A5%A0).ipynb\" target=\"_parent\"><img src=\"https://colab.research.google.com/assets/colab-badge.svg\" alt=\"Open In Colab\"/></a>"
      ]
    },
    {
      "cell_type": "markdown",
      "metadata": {
        "id": "Qj1w4vBVG4zl"
      },
      "source": [
        "## 1. 데이터셋 불러오기"
      ]
    },
    {
      "cell_type": "markdown",
      "metadata": {
        "id": "9gRWPqFwFtye"
      },
      "source": [
        "**데이터 불러오는 방법 2가지 중 택1 하여 진행**\n",
        "\n",
        "1.   깃허브에서 바로 데이터 복사하기\n",
        "\n",
        "```\n",
        "import pandas as pd\n",
        "\n",
        "! git clone https://github.com/Ahnjihye/KOFAC-AI-book.git\n",
        "\n",
        "data = pd.read_csv(\"KOFAC-AI-book/baseball.csv\") #데이터 불러오기\n",
        "data.head(10)                                     # 상위 10개 데이터 확인하기\n",
        "```\n",
        "\n",
        "2.   PC에 저장된 파일을 업로드하기\n",
        "\n",
        "```\n",
        "import pandas as pd\n",
        "from google.colab import files\n",
        "uploaded = files.upload()                             #파일 업로드\n",
        "\n",
        "data = pd.read_csv(\"baseball.csv\") #데이터 불러오기\n",
        "data.head(10)                                     # 상위 10개 데이터 확인하기\n",
        "```\n",
        "\n",
        "\n"
      ]
    },
    {
      "cell_type": "code",
      "metadata": {
        "id": "__r4lvizF3pT",
        "outputId": "e2dd72e7-b36c-4d17-b642-928b1cf0355d",
        "colab": {
          "base_uri": "https://localhost:8080/",
          "height": 374
        }
      },
      "source": [
        "import pandas as pd\n",
        " \n",
        "! git clone https://github.com/Ahnjihye/KOFAC-AI-book.git\n",
        " \n",
        "data = pd.read_csv(\"KOFAC-AI-book/baseball.csv\")  #데이터 불러오기\n",
        "data.head(10)                                     # 상위 10개 데이터 확인하기"
      ],
      "execution_count": 2,
      "outputs": [
        {
          "output_type": "stream",
          "text": [
            "fatal: destination path 'KOFAC-AI-book' already exists and is not an empty directory.\n"
          ],
          "name": "stdout"
        },
        {
          "output_type": "execute_result",
          "data": {
            "text/html": [
              "<div>\n",
              "<style scoped>\n",
              "    .dataframe tbody tr th:only-of-type {\n",
              "        vertical-align: middle;\n",
              "    }\n",
              "\n",
              "    .dataframe tbody tr th {\n",
              "        vertical-align: top;\n",
              "    }\n",
              "\n",
              "    .dataframe thead th {\n",
              "        text-align: right;\n",
              "    }\n",
              "</style>\n",
              "<table border=\"1\" class=\"dataframe\">\n",
              "  <thead>\n",
              "    <tr style=\"text-align: right;\">\n",
              "      <th></th>\n",
              "      <th>년도</th>\n",
              "      <th>타율</th>\n",
              "      <th>방어율</th>\n",
              "      <th>실제 승률</th>\n",
              "    </tr>\n",
              "  </thead>\n",
              "  <tbody>\n",
              "    <tr>\n",
              "      <th>0</th>\n",
              "      <td>2019</td>\n",
              "      <td>0.274</td>\n",
              "      <td>3.51</td>\n",
              "      <td>0.615</td>\n",
              "    </tr>\n",
              "    <tr>\n",
              "      <th>1</th>\n",
              "      <td>2019</td>\n",
              "      <td>0.282</td>\n",
              "      <td>3.61</td>\n",
              "      <td>0.601</td>\n",
              "    </tr>\n",
              "    <tr>\n",
              "      <th>2</th>\n",
              "      <td>2019</td>\n",
              "      <td>0.267</td>\n",
              "      <td>3.86</td>\n",
              "      <td>0.552</td>\n",
              "    </tr>\n",
              "    <tr>\n",
              "      <th>3</th>\n",
              "      <td>2019</td>\n",
              "      <td>0.278</td>\n",
              "      <td>4.01</td>\n",
              "      <td>0.514</td>\n",
              "    </tr>\n",
              "    <tr>\n",
              "      <th>4</th>\n",
              "      <td>2019</td>\n",
              "      <td>0.277</td>\n",
              "      <td>4.29</td>\n",
              "      <td>0.500</td>\n",
              "    </tr>\n",
              "    <tr>\n",
              "      <th>5</th>\n",
              "      <td>2019</td>\n",
              "      <td>0.264</td>\n",
              "      <td>4.65</td>\n",
              "      <td>0.437</td>\n",
              "    </tr>\n",
              "    <tr>\n",
              "      <th>6</th>\n",
              "      <td>2019</td>\n",
              "      <td>0.256</td>\n",
              "      <td>4.64</td>\n",
              "      <td>0.420</td>\n",
              "    </tr>\n",
              "    <tr>\n",
              "      <th>7</th>\n",
              "      <td>2019</td>\n",
              "      <td>0.256</td>\n",
              "      <td>4.80</td>\n",
              "      <td>0.403</td>\n",
              "    </tr>\n",
              "    <tr>\n",
              "      <th>8</th>\n",
              "      <td>2018</td>\n",
              "      <td>0.309</td>\n",
              "      <td>4.98</td>\n",
              "      <td>0.646</td>\n",
              "    </tr>\n",
              "    <tr>\n",
              "      <th>9</th>\n",
              "      <td>2018</td>\n",
              "      <td>0.275</td>\n",
              "      <td>4.93</td>\n",
              "      <td>0.535</td>\n",
              "    </tr>\n",
              "  </tbody>\n",
              "</table>\n",
              "</div>"
            ],
            "text/plain": [
              "     년도     타율   방어율  실제 승률\n",
              "0  2019  0.274  3.51  0.615\n",
              "1  2019  0.282  3.61  0.601\n",
              "2  2019  0.267  3.86  0.552\n",
              "3  2019  0.278  4.01  0.514\n",
              "4  2019  0.277  4.29  0.500\n",
              "5  2019  0.264  4.65  0.437\n",
              "6  2019  0.256  4.64  0.420\n",
              "7  2019  0.256  4.80  0.403\n",
              "8  2018  0.309  4.98  0.646\n",
              "9  2018  0.275  4.93  0.535"
            ]
          },
          "metadata": {
            "tags": []
          },
          "execution_count": 2
        }
      ]
    },
    {
      "cell_type": "markdown",
      "metadata": {
        "id": "TTLNhwdoHr0k"
      },
      "source": [
        "## 2. 데이터를 산점도로 나아내 상관관계 살펴보기"
      ]
    },
    {
      "cell_type": "code",
      "metadata": {
        "id": "YpeZw8hfT36c",
        "outputId": "2ef497be-cd2b-4e61-85db-5740ff2b2743",
        "colab": {
          "base_uri": "https://localhost:8080/",
          "height": 541
        }
      },
      "source": [
        "import matplotlib.pyplot as plt                       # 그래프 그리는 라이브러리\n",
        "\n",
        "# 타율과 승률 산점도\n",
        "plt.scatter(data['타율'], data['실제 승률'], c= 'r')  \n",
        "plt.xlabel(\"BA\")                                      # x축 이름 설정하기\n",
        "plt.ylabel(\"WPCT\")                                    # y축 이름 설정하기\n",
        "plt.show() # 그래프 출력하기\n",
        "\n",
        "# 방어율과 승률 산점도\n",
        "plt.scatter(data['방어율'], data['실제 승률'], c= 'b')\n",
        "plt.xlabel(\"ERA\")                                      # x축 이름 설정하기\n",
        "plt.ylabel(\"WPCT\")                                     # y축 이름 설정하기\n",
        "plt.show()                                             # 그래프 출력하기"
      ],
      "execution_count": 3,
      "outputs": [
        {
          "output_type": "display_data",
          "data": {
            "image/png": "[encoded data removed]",
            "text/plain": [
              "<Figure size 432x288 with 1 Axes>"
            ]
          },
          "metadata": {
            "tags": [],
            "needs_background": "light"
          }
        },
        {
          "output_type": "display_data",
          "data": {
            "image/png": "[encoded data removed]",
            "text/plain": [
              "<Figure size 432x288 with 1 Axes>"
            ]
          },
          "metadata": {
            "tags": [],
            "needs_background": "light"
          }
        }
      ]
    },
    {
      "cell_type": "markdown",
      "metadata": {
        "id": "EsM8tEQoHzao"
      },
      "source": [
        "## 3. 다중 선형회귀 모델 생성하여 학습시키기"
      ]
    },
    {
      "cell_type": "code",
      "metadata": {
        "id": "InST-JNeUO3f",
        "outputId": "76f8e3cf-426a-4a64-fbf3-b6e0656119a0",
        "colab": {
          "base_uri": "https://localhost:8080/"
        }
      },
      "source": [
        "from sklearn.linear_model import LinearRegression     # 선형회귀 라이브러리\n",
        "\n",
        "model = LinearRegression()                           # 선형회귀 모델 생성하기\n",
        "\n",
        "# 위에서 만든 선형회귀 모델에 데이터 넣고 학습\n",
        "model.fit(data[['타율','방어율']], data[['실제 승률']]) "
      ],
      "execution_count": 7,
      "outputs": [
        {
          "output_type": "execute_result",
          "data": {
            "text/plain": [
              "LinearRegression(copy_X=True, fit_intercept=True, n_jobs=None, normalize=False)"
            ]
          },
          "metadata": {
            "tags": []
          },
          "execution_count": 7
        }
      ]
    },
    {
      "cell_type": "markdown",
      "metadata": {
        "id": "Pnxb3di3IFq8"
      },
      "source": [
        "## 4. 테스트 데이터로 승률 예측해보기"
      ]
    },
    {
      "cell_type": "markdown",
      "metadata": {
        "id": "xGjA9A4-GXNv"
      },
      "source": [
        "**데이터 불러오는 방법 2가지 중 택1 하여 진행**\n",
        "\n",
        "1.   깃허브에서 바로 데이터 복사하기\n",
        "\n",
        "```\n",
        "# 위에서 git clone을 진행했다면 한 줄로 테스트데이터를 불러올 수 있다\n",
        "test_data = pd.read_csv(\"KOFAC-AI-book/baseball_test.csv\") #데이터 불러오기\n",
        "```\n",
        "\n",
        "2.   PC에 저장된 파일을 업로드하기\n",
        "\n",
        "```\n",
        "from google.colab import files\n",
        "uploaded = files.upload()                             #파일 업로드\n",
        "\n",
        "test_data = pd.read_csv(\"baseball_test.csv\") #데이터 불러오기\n",
        "```\n",
        "\n",
        "\n"
      ]
    },
    {
      "cell_type": "code",
      "metadata": {
        "id": "frhyLm0P6kox",
        "outputId": "ccf89b98-8eae-4b99-9f27-a636fc7e8c26",
        "colab": {
          "base_uri": "https://localhost:8080/",
          "height": 570
        }
      },
      "source": [
        "# 테스트 데이터 불러오기 (1번 방법)\n",
        "test_data = pd.read_csv(\"KOFAC-AI-book/baseball_test.csv\")         \n",
        "\n",
        "# 학습시킨 모델에 테스트 데이터 넣고 승률 예측해보기\n",
        "my_predict = model.predict(test_data[['타율','방어율']]) \n",
        "\n",
        "# 예측한 승률과 실제 승률 출력\n",
        "predict = pd.DataFrame(my_predict, columns =['예측한 승률'])\n",
        "predict_real = pd.concat([predict, test_data[['실제 승률']]], axis=1) \n",
        "predict_real"
      ],
      "execution_count": 8,
      "outputs": [
        {
          "output_type": "execute_result",
          "data": {
            "text/html": [
              "<div>\n",
              "<style scoped>\n",
              "    .dataframe tbody tr th:only-of-type {\n",
              "        vertical-align: middle;\n",
              "    }\n",
              "\n",
              "    .dataframe tbody tr th {\n",
              "        vertical-align: top;\n",
              "    }\n",
              "\n",
              "    .dataframe thead th {\n",
              "        text-align: right;\n",
              "    }\n",
              "</style>\n",
              "<table border=\"1\" class=\"dataframe\">\n",
              "  <thead>\n",
              "    <tr style=\"text-align: right;\">\n",
              "      <th></th>\n",
              "      <th>예측한 승률</th>\n",
              "      <th>실제 승률</th>\n",
              "    </tr>\n",
              "  </thead>\n",
              "  <tbody>\n",
              "    <tr>\n",
              "      <th>0</th>\n",
              "      <td>0.519574</td>\n",
              "      <td>0.500</td>\n",
              "    </tr>\n",
              "    <tr>\n",
              "      <th>1</th>\n",
              "      <td>0.381635</td>\n",
              "      <td>0.340</td>\n",
              "    </tr>\n",
              "    <tr>\n",
              "      <th>2</th>\n",
              "      <td>0.484797</td>\n",
              "      <td>0.430</td>\n",
              "    </tr>\n",
              "    <tr>\n",
              "      <th>3</th>\n",
              "      <td>0.437680</td>\n",
              "      <td>0.422</td>\n",
              "    </tr>\n",
              "    <tr>\n",
              "      <th>4</th>\n",
              "      <td>0.367409</td>\n",
              "      <td>0.389</td>\n",
              "    </tr>\n",
              "    <tr>\n",
              "      <th>5</th>\n",
              "      <td>0.500917</td>\n",
              "      <td>0.508</td>\n",
              "    </tr>\n",
              "    <tr>\n",
              "      <th>6</th>\n",
              "      <td>0.415110</td>\n",
              "      <td>0.417</td>\n",
              "    </tr>\n",
              "    <tr>\n",
              "      <th>7</th>\n",
              "      <td>0.413185</td>\n",
              "      <td>0.451</td>\n",
              "    </tr>\n",
              "    <tr>\n",
              "      <th>8</th>\n",
              "      <td>0.620011</td>\n",
              "      <td>0.548</td>\n",
              "    </tr>\n",
              "    <tr>\n",
              "      <th>9</th>\n",
              "      <td>0.518950</td>\n",
              "      <td>0.492</td>\n",
              "    </tr>\n",
              "    <tr>\n",
              "      <th>10</th>\n",
              "      <td>0.430916</td>\n",
              "      <td>0.418</td>\n",
              "    </tr>\n",
              "    <tr>\n",
              "      <th>11</th>\n",
              "      <td>0.562872</td>\n",
              "      <td>0.560</td>\n",
              "    </tr>\n",
              "    <tr>\n",
              "      <th>12</th>\n",
              "      <td>0.479793</td>\n",
              "      <td>0.547</td>\n",
              "    </tr>\n",
              "    <tr>\n",
              "      <th>13</th>\n",
              "      <td>0.603945</td>\n",
              "      <td>0.695</td>\n",
              "    </tr>\n",
              "    <tr>\n",
              "      <th>14</th>\n",
              "      <td>0.554829</td>\n",
              "      <td>0.615</td>\n",
              "    </tr>\n",
              "    <tr>\n",
              "      <th>15</th>\n",
              "      <td>0.518460</td>\n",
              "      <td>0.545</td>\n",
              "    </tr>\n",
              "    <tr>\n",
              "      <th>16</th>\n",
              "      <td>0.484308</td>\n",
              "      <td>0.479</td>\n",
              "    </tr>\n",
              "  </tbody>\n",
              "</table>\n",
              "</div>"
            ],
            "text/plain": [
              "      예측한 승률  실제 승률\n",
              "0   0.519574  0.500\n",
              "1   0.381635  0.340\n",
              "2   0.484797  0.430\n",
              "3   0.437680  0.422\n",
              "4   0.367409  0.389\n",
              "5   0.500917  0.508\n",
              "6   0.415110  0.417\n",
              "7   0.413185  0.451\n",
              "8   0.620011  0.548\n",
              "9   0.518950  0.492\n",
              "10  0.430916  0.418\n",
              "11  0.562872  0.560\n",
              "12  0.479793  0.547\n",
              "13  0.603945  0.695\n",
              "14  0.554829  0.615\n",
              "15  0.518460  0.545\n",
              "16  0.484308  0.479"
            ]
          },
          "metadata": {
            "tags": []
          },
          "execution_count": 8
        }
      ]
    },
    {
      "cell_type": "markdown",
      "metadata": {
        "id": "uFolfNCCJVKJ"
      },
      "source": [
        "## 5. 예측 정확도 시각화하여 확인해보기"
      ]
    },
    {
      "cell_type": "code",
      "metadata": {
        "id": "wJVlL2E72WZX",
        "outputId": "74fbc915-db42-49e5-c801-b778b216c4ce",
        "colab": {
          "base_uri": "https://localhost:8080/",
          "height": 279
        }
      },
      "source": [
        "import numpy as np                               # 수치 계산을 위한 라이브러리\n",
        "\n",
        "# y = x 직선 나타내기\n",
        "x1 = np.arange(0.3, 0.8, 0.1)  \n",
        "y1 = x1                                           # y = x 직선\n",
        "plt.plot(x1, y1, c= 'r')                          # 직선 그리기\n",
        "\n",
        "# 실제 승률(x축), 예측 승률(y축) 산점도 나타내기\n",
        "plt.scatter(predict_real['실제 승률'] ,predict_real['예측한 승률'])      \n",
        "plt.xlabel('Actual WPCT')                       # x축 이름 설정하기\n",
        "plt.ylabel('Predicted WPCT')                    # y축 이름 설정하기\n",
        "plt.show()                                      # 그래프 출력하기"
      ],
      "execution_count": 9,
      "outputs": [
        {
          "output_type": "display_data",
          "data": {
            "image/png": "[encoded data removed]",
            "text/plain": [
              "<Figure size 432x288 with 1 Axes>"
            ]
          },
          "metadata": {
            "tags": [],
            "needs_background": "light"
          }
        }
      ]
    },
    {
      "cell_type": "code",
      "metadata": {
        "id": "aRMVtOeG53mJ"
      },
      "source": [
        ""
      ],
      "execution_count": null,
      "outputs": []
    }
  ]
}