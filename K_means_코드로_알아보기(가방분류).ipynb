{
  "nbformat": 4,
  "nbformat_minor": 0,
  "metadata": {
    "colab": {
      "name": "K-means_코드로 알아보기(가방분류)",
      "provenance": [],
      "collapsed_sections": [],
      "include_colab_link": true
    },
    "kernelspec": {
      "name": "python3",
      "display_name": "Python 3"
    }
  },
  "cells": [
    {
      "cell_type": "markdown",
      "metadata": {
        "id": "view-in-github",
        "colab_type": "text"
      },
      "source": [
        "<a href=\"https://colab.research.google.com/github/Ahnjihye/KOFAC-AI-book/blob/main/K_means_%EC%BD%94%EB%93%9C%EB%A1%9C_%EC%95%8C%EC%95%84%EB%B3%B4%EA%B8%B0(%EA%B0%80%EB%B0%A9%EB%B6%84%EB%A5%98).ipynb\" target=\"_parent\"><img src=\"https://colab.research.google.com/assets/colab-badge.svg\" alt=\"Open In Colab\"/></a>"
      ]
    },
    {
      "cell_type": "markdown",
      "metadata": {
        "id": "oeraSVc-KkXe"
      },
      "source": [
        "## 1. 데이터 불러오기"
      ]
    },
    {
      "cell_type": "markdown",
      "metadata": {
        "id": "5NVhRnPeG6qS"
      },
      "source": [
        "**데이터 불러오는 방법 2가지 중 택1 하여 진행**\n",
        "\n",
        "1.   깃허브에서 바로 데이터 복사하기\n",
        "\n",
        "```\n",
        "import pandas as pd\n",
        "\n",
        "! git clone https://github.com/Ahnjihye/KOFAC-AI-book.git\n",
        "\n",
        "data = pd.read_csv(\"KOFAC-AI-book/bag.csv\", encoding ='cp949') #데이터 불러오기\n",
        "data.head(10)                                     # 상위 10개 데이터 확인하기\n",
        "```\n",
        "\n",
        "2.   PC에 저장된 파일을 업로드하기\n",
        "\n",
        "```\n",
        "import pandas as pd\n",
        "from google.colab import files\n",
        "uploaded = files.upload()                             #파일 업로드\n",
        "\n",
        "data = pd.read_csv(\"bag.csv\", encoding = 'cp949') #데이터 불러오기\n",
        "data.head(10)                                     # 상위 10개 데이터 확인하기\n",
        "```\n",
        "\n",
        "\n"
      ]
    },
    {
      "cell_type": "code",
      "metadata": {
        "id": "PJ6D8BlvGxhL",
        "outputId": "37de56b4-4f86-4307-ecbf-e11cbbf8c3a8",
        "colab": {
          "base_uri": "https://localhost:8080/",
          "height": 467
        }
      },
      "source": [
        "import pandas as pd\n",
        "\n",
        "! git clone https://github.com/Ahnjihye/KOFAC-AI-book.git\n",
        "\n",
        "data = pd.read_csv(\"KOFAC-AI-book/bag.csv\", encoding ='cp949') #데이터 불러오기\n",
        "data.head(10)                                     # 상위 10개 데이터 확인하기"
      ],
      "execution_count": 2,
      "outputs": [
        {
          "output_type": "stream",
          "text": [
            "Cloning into 'KOFAC-AI-book'...\n",
            "remote: Enumerating objects: 8, done.\u001b[K\n",
            "remote: Counting objects: 100% (8/8), done.\u001b[K\n",
            "remote: Compressing objects: 100% (6/6), done.\u001b[K\n",
            "remote: Total 8 (delta 0), reused 0 (delta 0), pack-reused 0\u001b[K\n",
            "Unpacking objects: 100% (8/8), done.\n"
          ],
          "name": "stdout"
        },
        {
          "output_type": "execute_result",
          "data": {
            "text/html": [
              "<div>\n",
              "<style scoped>\n",
              "    .dataframe tbody tr th:only-of-type {\n",
              "        vertical-align: middle;\n",
              "    }\n",
              "\n",
              "    .dataframe tbody tr th {\n",
              "        vertical-align: top;\n",
              "    }\n",
              "\n",
              "    .dataframe thead th {\n",
              "        text-align: right;\n",
              "    }\n",
              "</style>\n",
              "<table border=\"1\" class=\"dataframe\">\n",
              "  <thead>\n",
              "    <tr style=\"text-align: right;\">\n",
              "      <th></th>\n",
              "      <th>가방 가로길이</th>\n",
              "      <th>가방 세로길이</th>\n",
              "    </tr>\n",
              "  </thead>\n",
              "  <tbody>\n",
              "    <tr>\n",
              "      <th>0</th>\n",
              "      <td>10</td>\n",
              "      <td>18</td>\n",
              "    </tr>\n",
              "    <tr>\n",
              "      <th>1</th>\n",
              "      <td>26</td>\n",
              "      <td>16</td>\n",
              "    </tr>\n",
              "    <tr>\n",
              "      <th>2</th>\n",
              "      <td>8</td>\n",
              "      <td>8</td>\n",
              "    </tr>\n",
              "    <tr>\n",
              "      <th>3</th>\n",
              "      <td>28</td>\n",
              "      <td>13</td>\n",
              "    </tr>\n",
              "    <tr>\n",
              "      <th>4</th>\n",
              "      <td>31</td>\n",
              "      <td>38</td>\n",
              "    </tr>\n",
              "    <tr>\n",
              "      <th>5</th>\n",
              "      <td>35</td>\n",
              "      <td>36</td>\n",
              "    </tr>\n",
              "    <tr>\n",
              "      <th>6</th>\n",
              "      <td>22</td>\n",
              "      <td>35</td>\n",
              "    </tr>\n",
              "    <tr>\n",
              "      <th>7</th>\n",
              "      <td>18</td>\n",
              "      <td>10</td>\n",
              "    </tr>\n",
              "    <tr>\n",
              "      <th>8</th>\n",
              "      <td>15</td>\n",
              "      <td>34</td>\n",
              "    </tr>\n",
              "    <tr>\n",
              "      <th>9</th>\n",
              "      <td>7</td>\n",
              "      <td>12</td>\n",
              "    </tr>\n",
              "  </tbody>\n",
              "</table>\n",
              "</div>"
            ],
            "text/plain": [
              "   가방 가로길이  가방 세로길이\n",
              "0       10       18\n",
              "1       26       16\n",
              "2        8        8\n",
              "3       28       13\n",
              "4       31       38\n",
              "5       35       36\n",
              "6       22       35\n",
              "7       18       10\n",
              "8       15       34\n",
              "9        7       12"
            ]
          },
          "metadata": {
            "tags": []
          },
          "execution_count": 2
        }
      ]
    },
    {
      "cell_type": "markdown",
      "metadata": {
        "id": "CluEuZ9hLPyq"
      },
      "source": [
        "## 2. 데이터를 산점도로 나타내기"
      ]
    },
    {
      "cell_type": "code",
      "metadata": {
        "id": "qcRXa_RBGusY",
        "outputId": "5172cf3e-46c6-43cd-8971-2a5f7f7cbeed",
        "colab": {
          "base_uri": "https://localhost:8080/",
          "height": 295
        }
      },
      "source": [
        "import matplotlib.pyplot as plt       # 그래프 시각화 라이브러리\n",
        "\n",
        "plt.scatter(data['가방 가로길이'],data['가방 세로길이']) \n",
        "plt.xlabel('length') \t\t      # x축 이름 설정하기\n",
        "plt.ylabel('height')              # y축 이름 설정하기\n",
        "plt.title('bag')                  # 그래프 제목 설정하기\n",
        "plt.show()                        # 그래프 출력하기"
      ],
      "execution_count": 3,
      "outputs": [
        {
          "output_type": "display_data",
          "data": {
            "image/png": "[encoded data removed]",
            "text/plain": [
              "<Figure size 432x288 with 1 Axes>"
            ]
          },
          "metadata": {
            "tags": [],
            "needs_background": "light"
          }
        }
      ]
    },
    {
      "cell_type": "markdown",
      "metadata": {
        "id": "Ry25hIptNjpa"
      },
      "source": [
        "## 3. K-means 모델 만들고 학습시키기"
      ]
    },
    {
      "cell_type": "code",
      "metadata": {
        "id": "VDGy198AK-0D",
        "outputId": "9a74c575-d406-4a07-e409-374ea6e30d91",
        "colab": {
          "base_uri": "https://localhost:8080/",
          "height": 159
        }
      },
      "source": [
        "from sklearn.cluster import KMeans    # KMeans 기능 포함시키기\n",
        "\n",
        "# K-means 모델 생성\n",
        "model = KMeans(n_clusters = 3)        # 나눌 그룹 개수(k) = 3\n",
        "\n",
        "# 가방 데이터 15개로 K-means 학습\n",
        "labels= model.fit_predict(data)   \n",
        "\n",
        "# K-means 학습 결과가 저장된 변수 labels 확인\n",
        "print(labels)                    \n",
        "\n",
        "# 그룹 세 개의 각 중심점 x좌표, y좌표를 center에 저장하고 확인\n",
        "center = pd.DataFrame(model.cluster_centers_, columns=['x','y']) \n",
        "center                      "
      ],
      "execution_count": 4,
      "outputs": [
        {
          "output_type": "stream",
          "text": [
            "[0 2 0 2 1 1 1 0 1 0 2 1 0 2 0]\n"
          ],
          "name": "stdout"
        },
        {
          "output_type": "execute_result",
          "data": {
            "text/html": [
              "<div>\n",
              "<style scoped>\n",
              "    .dataframe tbody tr th:only-of-type {\n",
              "        vertical-align: middle;\n",
              "    }\n",
              "\n",
              "    .dataframe tbody tr th {\n",
              "        vertical-align: top;\n",
              "    }\n",
              "\n",
              "    .dataframe thead th {\n",
              "        text-align: right;\n",
              "    }\n",
              "</style>\n",
              "<table border=\"1\" class=\"dataframe\">\n",
              "  <thead>\n",
              "    <tr style=\"text-align: right;\">\n",
              "      <th></th>\n",
              "      <th>x</th>\n",
              "      <th>y</th>\n",
              "    </tr>\n",
              "  </thead>\n",
              "  <tbody>\n",
              "    <tr>\n",
              "      <th>0</th>\n",
              "      <td>12.5</td>\n",
              "      <td>12.5</td>\n",
              "    </tr>\n",
              "    <tr>\n",
              "      <th>1</th>\n",
              "      <td>24.0</td>\n",
              "      <td>35.2</td>\n",
              "    </tr>\n",
              "    <tr>\n",
              "      <th>2</th>\n",
              "      <td>29.0</td>\n",
              "      <td>18.0</td>\n",
              "    </tr>\n",
              "  </tbody>\n",
              "</table>\n",
              "</div>"
            ],
            "text/plain": [
              "      x     y\n",
              "0  12.5  12.5\n",
              "1  24.0  35.2\n",
              "2  29.0  18.0"
            ]
          },
          "metadata": {
            "tags": []
          },
          "execution_count": 4
        }
      ]
    },
    {
      "cell_type": "markdown",
      "metadata": {
        "id": "6DslNekkNnxY"
      },
      "source": [
        "## 4. K-means 분류 결과 그래프로 확인하기"
      ]
    },
    {
      "cell_type": "code",
      "metadata": {
        "id": "I7V0veU7VNJH",
        "outputId": "9edb10a9-110e-4f98-f4ae-686351a7c8bc",
        "colab": {
          "base_uri": "https://localhost:8080/",
          "height": 295
        }
      },
      "source": [
        "# 1. 가방 데이터 그룹별로 색상을 구분하여 산점도로 나타내기\n",
        "# 그룹0은 빨강, 그룹1은 초록, 그룹2는 파랑색 점으로 표시\n",
        "for i in range(len(labels)):\n",
        "    if labels[i]==0:\n",
        "        plt.scatter(data['가방 가로길이'][i],data['가방 세로길이'][i], c='r')\n",
        "    elif labels[i]==1:\n",
        "        plt.scatter(data['가방 가로길이'][i],data['가방 세로길이'][i], c='g')\n",
        "    elif labels[i]==2:\n",
        "        plt.scatter(data['가방 가로길이'][i],data['가방 세로길이'][i], c='b')\n",
        "\n",
        "# 2. 각 그룹의 중심점을 삼각형으로 산점도 위에 나타내기\n",
        "plt.scatter(center['x'],center['y'], marker='^', c = 'black', s=150)\n",
        "plt.xlabel('length') \t\t      # x축 이름 설정하기\n",
        "plt.ylabel('height')              # y축 이름 설정하기\n",
        "plt.title('bag K-means')          # 그래프 제목 설정하기\n",
        "plt.show()\n"
      ],
      "execution_count": 25,
      "outputs": [
        {
          "output_type": "display_data",
          "data": {
            "image/png": "[encoded data removed]",
            "text/plain": [
              "<Figure size 432x288 with 1 Axes>"
            ]
          },
          "metadata": {
            "tags": [],
            "needs_background": "light"
          }
        }
      ]
    },
    {
      "cell_type": "markdown",
      "metadata": {
        "id": "eb22zKkuOApc"
      },
      "source": [
        "## 5. 새로운 데이터의 K-means 그룹 예측해보기"
      ]
    },
    {
      "cell_type": "code",
      "metadata": {
        "id": "PhqbkDfqAtIg",
        "outputId": "3a29a61c-05c1-41b0-b351-1b175db8a48d",
        "colab": {
          "base_uri": "https://localhost:8080/"
        }
      },
      "source": [
        "new_data = [[20, 25]]           # 새로운 데이터\n",
        "\n",
        "# 새로운 데이터의 예측 결과를 변수 new_group에 저장\n",
        "new_group = model.predict(new_data)    \n",
        "print(new_group)"
      ],
      "execution_count": 20,
      "outputs": [
        {
          "output_type": "stream",
          "text": [
            "[1]\n"
          ],
          "name": "stdout"
        }
      ]
    },
    {
      "cell_type": "code",
      "metadata": {
        "id": "OYhX8DK7Bkwr",
        "outputId": "083edfa6-d481-47de-ab7b-e3aa2ebff2cb",
        "colab": {
          "base_uri": "https://localhost:8080/",
          "height": 295
        }
      },
      "source": [
        "# 산점도에 새로운 데이터 같이 보여주기\n",
        "\n",
        "# K-means 분류 결과 그래프로 확인하기\n",
        "# 1. 가방 데이터 그룹별로 산점도로 나타내기\n",
        "for i in range(len(labels)):\n",
        "    if labels[i]==0:\n",
        "        plt.scatter(data['가방 가로길이'][i],data['가방 세로길이'][i], c='r')\n",
        "    elif labels[i]==1:\n",
        "        plt.scatter(data['가방 가로길이'][i],data['가방 세로길이'][i], c='g')\n",
        "    elif labels[i]==2:\n",
        "        plt.scatter(data['가방 가로길이'][i],data['가방 세로길이'][i], c='b')\n",
        "\n",
        "# 2. 각 그룹의 중심점 별모양으로 산점도 위에 나타내기\n",
        "plt.scatter(center['x'],center['y'], marker='^', c = 'black', s=150)\n",
        "plt.xlabel('length') \t\t      # x축 이름 설정하기\n",
        "plt.ylabel('height')              # y축 이름 설정하기\n",
        "plt.title('bag K-means')          # 그래프 제목 설정하기\n",
        "\n",
        "# 3. 새로운 데이터 산점도에 나타내기 \n",
        "# 그룹 배정 결과에 따라 알맞은 색상으로 표현\n",
        "if new_group == 0 :\n",
        "    plt.scatter(new_data[0][0], new_data[0][1], marker='*', c = 'r', s=300)\n",
        "elif new_group == 1 :\n",
        "    plt.scatter(new_data[0][0], new_data[0][1], marker='*', c = 'g', s=300)\n",
        "elif new_group == 2 :\n",
        "    plt.scatter(new_data[0][0], new_data[0][1], marker='*', c = 'b', s=300)\n",
        "\n",
        "plt.xlabel('length') \t\t      # x축 이름 설정하기\n",
        "plt.ylabel('height')              # y축 이름 설정하기\n",
        "plt.title('bag K-means')          # 그래프 제목 설정하기\n",
        "plt.show()"
      ],
      "execution_count": 24,
      "outputs": [
        {
          "output_type": "display_data",
          "data": {
            "image/png": "[encoded data removed]",
            "text/plain": [
              "<Figure size 432x288 with 1 Axes>"
            ]
          },
          "metadata": {
            "tags": [],
            "needs_background": "light"
          }
        }
      ]
    },
    {
      "cell_type": "code",
      "metadata": {
        "id": "lRustSGcCr7x"
      },
      "source": [
        ""
      ],
      "execution_count": null,
      "outputs": []
    }
  ]
}